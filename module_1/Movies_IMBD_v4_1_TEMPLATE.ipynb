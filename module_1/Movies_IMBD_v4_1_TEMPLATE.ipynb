{
  "nbformat": 4,
  "nbformat_minor": 0,
  "metadata": {
    "colab": {
      "name": "Movies_IMBD_v4.1_TEMPLATE.ipynb",
      "provenance": [],
      "collapsed_sections": []
    },
    "kernelspec": {
      "display_name": "Python 3",
      "language": "python",
      "name": "python3"
    },
    "language_info": {
      "codemirror_mode": {
        "name": "ipython",
        "version": 3
      },
      "file_extension": ".py",
      "mimetype": "text/x-python",
      "name": "python",
      "nbconvert_exporter": "python",
      "pygments_lexer": "ipython3",
      "version": "3.7.4"
    }
  },
  "cells": [
    {
      "cell_type": "code",
      "metadata": {
        "_cell_guid": "b1076dfc-b9ad-4769-8c92-a6c4dae69d19",
        "_uuid": "8f2839f25d086af736a60e9eeb907d3b93b6e0e5",
        "id": "U2D2gTdJVp90"
      },
      "source": [
        "import numpy as np\n",
        "import pandas as pd\n",
        "import seaborn as sns\n",
        "import matplotlib.pyplot as plt\n",
        "from collections import Counter\n",
        "import itertools"
      ],
      "execution_count": null,
      "outputs": []
    },
    {
      "cell_type": "code",
      "metadata": {
        "_cell_guid": "79c7e3d0-c299-4dcb-8224-4455121ee9b0",
        "_uuid": "d629ff2d2480ee46fbb7e2d37f6b5fab8052498a",
        "id": "oyGfxL3eVp9-"
      },
      "source": [
        "data = pd.read_csv('movie_bd_v5.csv')\n",
        "data.sample(5)"
      ],
      "execution_count": null,
      "outputs": []
    },
    {
      "cell_type": "code",
      "metadata": {
        "id": "CoYUnagMVp-C"
      },
      "source": [
        "data.describe()"
      ],
      "execution_count": null,
      "outputs": []
    },
    {
      "cell_type": "markdown",
      "metadata": {
        "id": "DTIt7ezGVp-G"
      },
      "source": [
        "# Предобработка"
      ]
    },
    {
      "cell_type": "code",
      "metadata": {
        "id": "jNb40DwKVp-H"
      },
      "source": [
        "answers = {} # создадим словарь для ответов\n",
        "\n",
        "# тут другие ваши предобработки колонок например:\n",
        "\n",
        "#the time given in the dataset is in string format.\n",
        "#So we need to change this in datetime format\n",
        "# ...\n",
        "\n",
        "#Новый столбец с данными о прибыли\n",
        "data[\"profit\"] = data[\"revenue\"] - data[\"budget\"]\n",
        "\n",
        "\n",
        "#Функция принимает в себя строку в формате дд/мм/гггг возвращает месяц словами\n",
        "def return_month(release_date):\n",
        "    lst_day_month_year = release_date.split(\"/\")\n",
        "    month_value = int(lst_day_month_year[0])\n",
        "\n",
        "    switch = {\n",
        "        1: \"Январь\",\n",
        "        2: \"Февраль\",\n",
        "        3: \"Март\",\n",
        "        4: \"Апрель\",\n",
        "        5: \"Май\",\n",
        "        6: \"Июнь\",\n",
        "        7: \"Июль\",\n",
        "        8: \"Август\",\n",
        "        9: \"Сентябрь\",\n",
        "        10: \"Октябрь\",\n",
        "        11: \"Ноябрь\",\n",
        "        12: \"Декабрь\"\n",
        "    }\n",
        "\n",
        "    switch.setdefault(month_value, \"Неверное значение\")\n",
        "\n",
        "    return switch[month_value]\n",
        "\n",
        "\n",
        "#Новый столбец с данными о месяце релиза\n",
        "data[\"release_month\"] = data[\"release_date\"].apply(return_month)"
      ],
      "execution_count": null,
      "outputs": []
    },
    {
      "cell_type": "markdown",
      "metadata": {
        "id": "YxZaH-nPVp-L"
      },
      "source": [
        "# 1. У какого фильма из списка самый большой бюджет?"
      ]
    },
    {
      "cell_type": "markdown",
      "metadata": {
        "id": "Nd-G5gX6Vp-M"
      },
      "source": [
        "Использовать варианты ответов в коде решения запрещено.    \n",
        "Вы думаете и в жизни у вас будут варианты ответов?)"
      ]
    },
    {
      "cell_type": "code",
      "metadata": {
        "id": "uVnXAY5RVp-O"
      },
      "source": [
        "# в словарь вставляем номер вопроса и ваш ответ на него\n",
        "# Пример: \n",
        "answers['1'] = '2. Spider-Man 3 (tt0413300)'\n",
        "# запишите свой вариант ответа\n",
        "answers['1'] = 'Pirates of the Caribbean: On Stranger Tides (tt1298650)'\n",
        "# + "
      ],
      "execution_count": null,
      "outputs": []
    },
    {
      "cell_type": "code",
      "metadata": {
        "id": "dZwb3m28Vp-S"
      },
      "source": [
        "result_1 = data[data[\"budget\"] == data[\"budget\"].max()][\"original_title\"][723] + \" \" + \"(\" + \\\r\n",
        "           data[data[\"budget\"] == data[\"budget\"].max()][\"imdb_id\"][723] + \")\"\r\n",
        "print(data[data[\"budget\"] == data[\"budget\"].max()])\r\n",
        "print(result_1)"
      ],
      "execution_count": null,
      "outputs": []
    },
    {
      "cell_type": "markdown",
      "metadata": {
        "id": "K7L3nbRXVp-X"
      },
      "source": [
        "ВАРИАНТ 2"
      ]
    },
    {
      "cell_type": "code",
      "metadata": {
        "id": "OGaoQI7rVp-X"
      },
      "source": [
        "# можно добавлять разные варианты решения"
      ],
      "execution_count": null,
      "outputs": []
    },
    {
      "cell_type": "markdown",
      "metadata": {
        "id": "FNRbbI3vVp-c"
      },
      "source": [
        "# 2. Какой из фильмов самый длительный (в минутах)?"
      ]
    },
    {
      "cell_type": "code",
      "metadata": {
        "id": "vHAoEXNTVp-d"
      },
      "source": [
        "# думаю логику работы с этим словарем вы уже поняли, \n",
        "# по этому не буду больше его дублировать\n",
        "answers['2'] = 'Gods and Generals (tt0279111)'"
      ],
      "execution_count": null,
      "outputs": []
    },
    {
      "cell_type": "code",
      "metadata": {
        "id": "ot-VX2XrVp-g"
      },
      "source": [
        "print(data[data[\"runtime\"] == data[\"runtime\"].max()])\r\n",
        "result_2 = data[data[\"runtime\"] == data[\"runtime\"].max()][\"original_title\"][1157] + \" \" + \"(\" + \\\r\n",
        "           data[data[\"runtime\"] == data[\"runtime\"].max()][\"imdb_id\"][1157] + \")\"\r\n",
        "print(result_2)"
      ],
      "execution_count": null,
      "outputs": []
    },
    {
      "cell_type": "markdown",
      "metadata": {
        "id": "bapLlpW8Vp-k"
      },
      "source": [
        "# 3. Какой из фильмов самый короткий (в минутах)?\n",
        "\n",
        "\n",
        "\n"
      ]
    },
    {
      "cell_type": "code",
      "metadata": {
        "id": "YBxaSHuAVp-l"
      },
      "source": [
        "answers['3'] = 'Winnie the Pooh (tt1449283)'"
      ],
      "execution_count": null,
      "outputs": []
    },
    {
      "cell_type": "code",
      "metadata": {
        "id": "5LxqIJL32j_e"
      },
      "source": [
        "print(data[data[\"runtime\"] == data[\"runtime\"].min()])\r\n",
        "result_3 = data[data[\"runtime\"] == data[\"runtime\"].min()][\"original_title\"][768] + \" \" + \"(\" + \\\r\n",
        "           data[data[\"runtime\"] == data[\"runtime\"].min()][\"imdb_id\"][768] + \")\"\r\n",
        "print(result_3)"
      ],
      "execution_count": null,
      "outputs": []
    },
    {
      "cell_type": "markdown",
      "metadata": {
        "id": "TfQbxbfNVp-p"
      },
      "source": [
        "# 4. Какова средняя длительность фильмов?\n"
      ]
    },
    {
      "cell_type": "code",
      "metadata": {
        "id": "5K6dKZYVVp-q"
      },
      "source": [
        "answers['4'] = '110'"
      ],
      "execution_count": null,
      "outputs": []
    },
    {
      "cell_type": "code",
      "metadata": {
        "id": "w7W6TU7c2tpu"
      },
      "source": [
        "result_4 = round(data.describe()[\"runtime\"][\"mean\"])\r\n",
        "print(result_4)"
      ],
      "execution_count": null,
      "outputs": []
    },
    {
      "cell_type": "markdown",
      "metadata": {
        "id": "r5TvbnT_Vp-u"
      },
      "source": [
        "# 5. Каково медианное значение длительности фильмов? "
      ]
    },
    {
      "cell_type": "code",
      "metadata": {
        "id": "iBROplKnVp-v"
      },
      "source": [
        "answers['5'] = '107'"
      ],
      "execution_count": null,
      "outputs": []
    },
    {
      "cell_type": "code",
      "metadata": {
        "id": "R9GuyHb122he"
      },
      "source": [
        "result_5 = int(data.describe()[\"runtime\"][\"50%\"])\r\n",
        "print(result_5)"
      ],
      "execution_count": null,
      "outputs": []
    },
    {
      "cell_type": "markdown",
      "metadata": {
        "id": "39P-deDSVp-y"
      },
      "source": [
        "# 6. Какой самый прибыльный фильм?\n",
        "#### Внимание! Здесь и далее под «прибылью» или «убытками» понимается разность между сборами и бюджетом фильма. (прибыль = сборы - бюджет) в нашем датасете это будет (profit = revenue - budget) "
      ]
    },
    {
      "cell_type": "code",
      "metadata": {
        "id": "UYZh4T9WVp-y"
      },
      "source": [
        "answers['6'] = 'Avatar (tt0499549)'"
      ],
      "execution_count": null,
      "outputs": []
    },
    {
      "cell_type": "code",
      "metadata": {
        "id": "E07NjLTS3Wdb"
      },
      "source": [
        "print(data[data[\"profit\"] == data[\"profit\"].max()])\r\n",
        "result_6 = data[data[\"profit\"] == data[\"profit\"].max()][\"original_title\"][239] + \" \" + \"(\" + \\\r\n",
        "           data[data[\"profit\"] == data[\"profit\"].max()][\"imdb_id\"][239] + \")\"\r\n",
        "print(result_6)"
      ],
      "execution_count": null,
      "outputs": []
    },
    {
      "cell_type": "markdown",
      "metadata": {
        "id": "M99JmIX4Vp-2"
      },
      "source": [
        "# 7. Какой фильм самый убыточный? "
      ]
    },
    {
      "cell_type": "code",
      "metadata": {
        "id": "w-D2m4XPVp-3"
      },
      "source": [
        "answers['7'] = 'The Lone Ranger (tt1210819)'"
      ],
      "execution_count": null,
      "outputs": []
    },
    {
      "cell_type": "code",
      "metadata": {
        "id": "qIJNiiqU3eqw"
      },
      "source": [
        "print(data[data[\"profit\"] == data[\"profit\"].min()])\r\n",
        "result_7 = data[data[\"profit\"] == data[\"profit\"].min()][\"original_title\"][1245] + \" \" + \"(\" + \\\r\n",
        "           data[data[\"profit\"] == data[\"profit\"].min()][\"imdb_id\"][1245] + \")\"\r\n",
        "print(result_7)"
      ],
      "execution_count": null,
      "outputs": []
    },
    {
      "cell_type": "markdown",
      "metadata": {
        "id": "wEOM5ERVVp-6"
      },
      "source": [
        "# 8. У скольких фильмов из датасета объем сборов оказался выше бюджета?"
      ]
    },
    {
      "cell_type": "code",
      "metadata": {
        "id": "y00_7HD6Vp-7"
      },
      "source": [
        "answers['8'] = '1478'"
      ],
      "execution_count": null,
      "outputs": []
    },
    {
      "cell_type": "code",
      "metadata": {
        "id": "4sejmQAi3tJv"
      },
      "source": [
        "result_8 = data[data[\"revenue\"] > data[\"budget\"]][\"imdb_id\"].nunique()\r\n",
        "print(result_8)"
      ],
      "execution_count": null,
      "outputs": []
    },
    {
      "cell_type": "markdown",
      "metadata": {
        "id": "xhpspA9KVp_A"
      },
      "source": [
        "# 9. Какой фильм оказался самым кассовым в 2008 году?"
      ]
    },
    {
      "cell_type": "code",
      "metadata": {
        "id": "MoUyQr9RVp_B"
      },
      "source": [
        "answers['9'] = 'The Dark Knight (tt0468569)'"
      ],
      "execution_count": null,
      "outputs": []
    },
    {
      "cell_type": "code",
      "metadata": {
        "id": "KJG1X2ZH34CH"
      },
      "source": [
        "temp = data[data[\"release_year\"] == 2008]\r\n",
        "result_9 = temp[temp[\"revenue\"] == temp[\"revenue\"].max()][\"original_title\"][599] + \" \" + \"(\" + \\\r\n",
        "           temp[temp[\"revenue\"] == temp[\"revenue\"].max()][\"imdb_id\"][599] + \")\"\r\n",
        "print(result_9)"
      ],
      "execution_count": null,
      "outputs": []
    },
    {
      "cell_type": "markdown",
      "metadata": {
        "id": "I4qEmSOC4cj7"
      },
      "source": [
        "ВАРИАНТ 2\r\n"
      ]
    },
    {
      "cell_type": "code",
      "metadata": {
        "id": "p2xH1-zo4kL3"
      },
      "source": [
        "result_9 = data[data[\"release_year\"] == 2008].groupby(\"original_title\")[\"revenue\"].max().sort_values(ascending=False)\r\n",
        "print(result_9.index[0])"
      ],
      "execution_count": null,
      "outputs": []
    },
    {
      "cell_type": "markdown",
      "metadata": {
        "id": "Zi4hDKidVp_F"
      },
      "source": [
        "# 10. Самый убыточный фильм за период с 2012 по 2014 г. (включительно)?\n"
      ]
    },
    {
      "cell_type": "code",
      "metadata": {
        "id": "XqyRmufJVp_F"
      },
      "source": [
        "answers['10'] = 'The Lone Ranger (tt1210819)'"
      ],
      "execution_count": null,
      "outputs": []
    },
    {
      "cell_type": "code",
      "metadata": {
        "id": "CcHoZGrK4we_"
      },
      "source": [
        "temp = data[data[\"release_year\"].isin([2012, 2013, 2014])]\r\n",
        "print(temp[temp[\"profit\"] == temp[\"profit\"].min()])\r\n",
        "result_10 = temp[temp[\"profit\"] == temp[\"profit\"].min()][\"original_title\"][1245] + \" \" + \"(\" + \\\r\n",
        "            temp[temp[\"profit\"] == temp[\"profit\"].min()][\"imdb_id\"][1245] + \")\"\r\n",
        "print(result_10)"
      ],
      "execution_count": null,
      "outputs": []
    },
    {
      "cell_type": "markdown",
      "metadata": {
        "id": "EA7Sa9dkVp_I"
      },
      "source": [
        "# 11. Какого жанра фильмов больше всего?"
      ]
    },
    {
      "cell_type": "code",
      "metadata": {
        "id": "zsJAwJ8QVp_J"
      },
      "source": [
        "# эту задачу тоже можно решать разными подходами, попробуй реализовать разные варианты\n",
        "# если будешь добавлять функцию - выноси ее в предобработку что в начале\n",
        "answers['11'] = 'Drama'"
      ],
      "execution_count": null,
      "outputs": []
    },
    {
      "cell_type": "code",
      "metadata": {
        "id": "vDyLEZVi5Rtb"
      },
      "source": [
        "temp = data.copy()\r\n",
        "temp[\"genres\"] = temp[\"genres\"].str.split(\"|\")\r\n",
        "temp = temp.explode(\"genres\")\r\n",
        "result_11 = temp[\"genres\"].value_counts()\r\n",
        "print(result_11.index[0])"
      ],
      "execution_count": null,
      "outputs": []
    },
    {
      "cell_type": "markdown",
      "metadata": {
        "id": "Ax6g2C8SVp_M"
      },
      "source": [
        "ВАРИАНТ 2"
      ]
    },
    {
      "cell_type": "code",
      "metadata": {
        "id": "otO3SbrSVp_N"
      },
      "source": [
        ""
      ],
      "execution_count": null,
      "outputs": []
    },
    {
      "cell_type": "markdown",
      "metadata": {
        "id": "T9_bPWpkVp_Q"
      },
      "source": [
        "# 12. Фильмы какого жанра чаще всего становятся прибыльными? "
      ]
    },
    {
      "cell_type": "code",
      "metadata": {
        "id": "Tmt8MaK1Vp_R"
      },
      "source": [
        "answers['12'] = 'Drama'"
      ],
      "execution_count": null,
      "outputs": []
    },
    {
      "cell_type": "code",
      "metadata": {
        "id": "BTRY3mxH5pog"
      },
      "source": [
        "temp_df = data.query(\"revenue > budget\").copy()\r\n",
        "\r\n",
        "temp_df[\"genres\"] = temp_df[\"genres\"].str.split(\"|\")\r\n",
        "temp_df = temp_df.explode(\"genres\")\r\n",
        "temp_df = temp_df[\"genres\"].value_counts()\r\n",
        "result_12 = temp_df.index[0]\r\n",
        "print(result_12)"
      ],
      "execution_count": null,
      "outputs": []
    },
    {
      "cell_type": "markdown",
      "metadata": {
        "id": "0F23bgsDVp_U"
      },
      "source": [
        "# 13. У какого режиссера самые большие суммарные кассовые сборы?"
      ]
    },
    {
      "cell_type": "code",
      "metadata": {
        "id": "K6Z3J8ygVp_X"
      },
      "source": [
        "answers['13'] = 'Peter Jackson'"
      ],
      "execution_count": null,
      "outputs": []
    },
    {
      "cell_type": "code",
      "metadata": {
        "id": "BftdbGMk6Cnp"
      },
      "source": [
        "temp = data.copy()\r\n",
        "result_13 = temp.groupby(\"director\")[\"revenue\"].sum().sort_values(ascending=False).index[0]\r\n",
        "print(result_13)"
      ],
      "execution_count": null,
      "outputs": []
    },
    {
      "cell_type": "markdown",
      "metadata": {
        "id": "PsYC9FgRVp_a"
      },
      "source": [
        "# 14. Какой режисер снял больше всего фильмов в стиле Action?"
      ]
    },
    {
      "cell_type": "code",
      "metadata": {
        "id": "wd2M-wHeVp_b"
      },
      "source": [
        "answers['14'] = 'Robert Rodriguez'"
      ],
      "execution_count": null,
      "outputs": []
    },
    {
      "cell_type": "code",
      "metadata": {
        "id": "26NNwSC-6K2R"
      },
      "source": [
        "data_2 = data[data[\"genres\"].str.contains(\"Action\")].copy()\r\n",
        "data_2[\"director\"] = data_2[\"director\"].str.split(\"|\")\r\n",
        "data_2 = data_2.explode(\"director\")\r\n",
        "result_14 = data_2[\"director\"].value_counts().index[0]\r\n",
        "print(result_14)"
      ],
      "execution_count": null,
      "outputs": []
    },
    {
      "cell_type": "markdown",
      "metadata": {
        "id": "PQ0KciD7Vp_f"
      },
      "source": [
        "# 15. Фильмы с каким актером принесли самые высокие кассовые сборы в 2012 году? "
      ]
    },
    {
      "cell_type": "code",
      "metadata": {
        "id": "aga62oeKVp_g"
      },
      "source": [
        "answers['15'] = 'Chris Hemsworth'"
      ],
      "execution_count": null,
      "outputs": []
    },
    {
      "cell_type": "code",
      "metadata": {
        "id": "zrJUAaWa6rVq"
      },
      "source": [
        "data_2 = data.copy()\r\n",
        "\r\n",
        "data_2 = data_2[data_2[\"release_year\"] == 2012]\r\n",
        "data_2[\"cast\"] = data_2[\"cast\"].str.split(\"|\")\r\n",
        "data_2 = data_2.explode(\"cast\")\r\n",
        "result_15 = data_2.groupby(\"cast\")[\"revenue\"].sum().sort_values(ascending=False).index[0]\r\n",
        "print(result_15)"
      ],
      "execution_count": null,
      "outputs": []
    },
    {
      "cell_type": "markdown",
      "metadata": {
        "id": "mWHyyL7QVp_j"
      },
      "source": [
        "# 16. Какой актер снялся в большем количестве высокобюджетных фильмов?"
      ]
    },
    {
      "cell_type": "code",
      "metadata": {
        "id": "qQtmHKTFVp_k"
      },
      "source": [
        "answers['16'] = 'Matt Damon'"
      ],
      "execution_count": null,
      "outputs": []
    },
    {
      "cell_type": "code",
      "metadata": {
        "id": "4gGN-IMj6_Fy"
      },
      "source": [
        "data_2 = data.copy()\r\n",
        "data_2[\"cast\"] = data_2[\"cast\"].str.split(\"|\")\r\n",
        "data_2 = data_2.explode(\"cast\")\r\n",
        "data_2 = data_2[data_2[\"budget\"] > data_2[\"budget\"].mean()]\r\n",
        "result_16 = data_2[\"cast\"].value_counts().sort_values(ascending=False).index[0]\r\n",
        "print(result_16)"
      ],
      "execution_count": null,
      "outputs": []
    },
    {
      "cell_type": "markdown",
      "metadata": {
        "id": "NIh6AaW5Vp_n"
      },
      "source": [
        "# 17. В фильмах какого жанра больше всего снимался Nicolas Cage? "
      ]
    },
    {
      "cell_type": "code",
      "metadata": {
        "id": "H74SJDIBVp_n"
      },
      "source": [
        "answers['17'] = 'Action'"
      ],
      "execution_count": null,
      "outputs": []
    },
    {
      "cell_type": "code",
      "metadata": {
        "id": "Xd3Qed3D7Xi4"
      },
      "source": [
        "data_2 = data.copy()\r\n",
        "data_2[\"genres\"] = data_2[\"genres\"].str.split(\"|\")\r\n",
        "data_2 = data_2.explode(\"genres\")\r\n",
        "data_2 = data_2[data_2[\"cast\"].str.contains(\"Nicolas Cage\")]\r\n",
        "result_17 = data_2[\"genres\"].value_counts().sort_values(ascending=False).index[0]\r\n",
        "print(result_17)"
      ],
      "execution_count": null,
      "outputs": []
    },
    {
      "cell_type": "markdown",
      "metadata": {
        "id": "RqOmPRfWVp_q"
      },
      "source": [
        "# 18. Самый убыточный фильм от Paramount Pictures"
      ]
    },
    {
      "cell_type": "code",
      "metadata": {
        "id": "9E_B0Y96Vp_r"
      },
      "source": [
        "answers['18'] = 'K-19: The Widowmaker (tt0267626)'"
      ],
      "execution_count": null,
      "outputs": []
    },
    {
      "cell_type": "code",
      "metadata": {
        "id": "CWTTWsuP7m10"
      },
      "source": [
        "data_2 = data.copy()\r\n",
        "data_2 = data_2[data_2[\"production_companies\"].str.contains(\"Paramount Pictures\")]\r\n",
        "pre_result = data_2[data_2[\"profit\"] == data_2[\"profit\"].min()]\r\n",
        "\r\n",
        "result_18 = pre_result[\"original_title\"][pre_result.index[0]] + \" \" + \"(\" + pre_result[\"imdb_id\"][\r\n",
        "    pre_result.index[0]] + \")\"\r\n",
        "print(result_18)"
      ],
      "execution_count": null,
      "outputs": []
    },
    {
      "cell_type": "markdown",
      "metadata": {
        "id": "vS8Ur6ddVp_u"
      },
      "source": [
        "# 19. Какой год стал самым успешным по суммарным кассовым сборам?"
      ]
    },
    {
      "cell_type": "code",
      "metadata": {
        "id": "2Onz0Pbc70IS"
      },
      "source": [
        "answers['19'] = '2015'"
      ],
      "execution_count": null,
      "outputs": []
    },
    {
      "cell_type": "code",
      "metadata": {
        "id": "Dnbt4GdIVp_v"
      },
      "source": [
        "data_2 = data.copy()\r\n",
        "result_19 = data_2.groupby(\"release_year\")[\"revenue\"].sum().sort_values(ascending=False).index[0]\r\n",
        "print(result_19)"
      ],
      "execution_count": null,
      "outputs": []
    },
    {
      "cell_type": "markdown",
      "metadata": {
        "id": "JAzJh4QAVp_z"
      },
      "source": [
        "# 20. Какой самый прибыльный год для студии Warner Bros?"
      ]
    },
    {
      "cell_type": "code",
      "metadata": {
        "id": "wgVu02DEVp_0"
      },
      "source": [
        "answers['20'] = '2014'"
      ],
      "execution_count": null,
      "outputs": []
    },
    {
      "cell_type": "code",
      "metadata": {
        "id": "qDTVlMzg8JKT"
      },
      "source": [
        "data_2 = data.copy()\r\n",
        "data_2 = data_2[data_2[\"production_companies\"].str.contains(\"Warner Bros\")]\r\n",
        "result_20 = data_2.groupby(\"release_year\")[\"profit\"].sum().sort_values(ascending=False).index[0]\r\n",
        "print(result_20)"
      ],
      "execution_count": null,
      "outputs": []
    },
    {
      "cell_type": "markdown",
      "metadata": {
        "id": "8Im1S2HRVp_4"
      },
      "source": [
        "# 21. В каком месяце за все годы суммарно вышло больше всего фильмов?"
      ]
    },
    {
      "cell_type": "code",
      "metadata": {
        "id": "lev6TH7gVp_4"
      },
      "source": [
        "answers['21'] = 'Сентябрь'"
      ],
      "execution_count": null,
      "outputs": []
    },
    {
      "cell_type": "code",
      "metadata": {
        "id": "TIxI5nC78eo0"
      },
      "source": [
        "data_2 = data.copy()\r\n",
        "result_21 = data_2[\"release_month\"].value_counts().index[0]\r\n",
        "print(result_21)"
      ],
      "execution_count": null,
      "outputs": []
    },
    {
      "cell_type": "markdown",
      "metadata": {
        "id": "uAJsZ_NeVp_7"
      },
      "source": [
        "# 22. Сколько суммарно вышло фильмов летом? (за июнь, июль, август)"
      ]
    },
    {
      "cell_type": "code",
      "metadata": {
        "id": "Aa-hEREoVp_8"
      },
      "source": [
        "answers['22'] = '450'"
      ],
      "execution_count": null,
      "outputs": []
    },
    {
      "cell_type": "code",
      "metadata": {
        "id": "NeZickA_9edP"
      },
      "source": [
        "data_2 = data.copy()\r\n",
        "result_22 = data_2[data_2[\"release_month\"].isin([\"Июнь\", \"Июль\", \"Август\"])][\"release_month\"].value_counts().sum()\r\n",
        "print(result_22)"
      ],
      "execution_count": null,
      "outputs": []
    },
    {
      "cell_type": "markdown",
      "metadata": {
        "id": "G94ppOY1VqAA"
      },
      "source": [
        "# 23. Для какого режиссера зима – самое продуктивное время года? "
      ]
    },
    {
      "cell_type": "code",
      "metadata": {
        "id": "RhNTsamuVqAB"
      },
      "source": [
        "answers['23'] = 'Peter Jackson'"
      ],
      "execution_count": null,
      "outputs": []
    },
    {
      "cell_type": "code",
      "metadata": {
        "id": "X9l9q8kT9n0Z"
      },
      "source": [
        "data_2 = data.copy()\r\n",
        "result_23 = \\\r\n",
        "    data_2[data_2[\"release_month\"].isin([\"Декабрь\", \"Январь\", \"Февраль\"])][\"director\"].value_counts().sort_values(\r\n",
        "        ascending=False).index[0]\r\n",
        "print(result_23)"
      ],
      "execution_count": null,
      "outputs": []
    },
    {
      "cell_type": "markdown",
      "metadata": {
        "id": "RBo0JVjVVqAF"
      },
      "source": [
        "# 24. Какая студия дает самые длинные названия своим фильмам по количеству символов?"
      ]
    },
    {
      "cell_type": "code",
      "metadata": {
        "id": "QRGS8L0iVqAG"
      },
      "source": [
        "answers['24'] = 'Four By Two Productions'"
      ],
      "execution_count": null,
      "outputs": []
    },
    {
      "cell_type": "code",
      "metadata": {
        "id": "zjw-R8BR-Azb"
      },
      "source": [
        "data_2 = data.copy()\r\n",
        "data_2[\"title_size\"] = data_2[\"original_title\"].apply(lambda x: len(str(x)))\r\n",
        "data_2[\"production_companies\"] = data_2[\"production_companies\"].str.split(\"|\")\r\n",
        "data_2 = data_2.explode(\"production_companies\")\r\n",
        "result_24 = data_2.groupby(\"production_companies\")[\"title_size\"].mean().sort_values(ascending=False).index[0]\r\n",
        "print(result_24)"
      ],
      "execution_count": null,
      "outputs": []
    },
    {
      "cell_type": "markdown",
      "metadata": {
        "id": "9G0hbvR7VqAK"
      },
      "source": [
        "# 25. Описание фильмов какой студии в среднем самые длинные по количеству слов?"
      ]
    },
    {
      "cell_type": "code",
      "metadata": {
        "id": "Ge2GsLNxVqAK"
      },
      "source": [
        "answers['25'] = 'Midnight Picture Show'"
      ],
      "execution_count": null,
      "outputs": []
    },
    {
      "cell_type": "code",
      "metadata": {
        "id": "rsX6AJfu-ipk"
      },
      "source": [
        "data_2 = data.copy()\r\n",
        "data_2['production_companies'] = data_2.production_companies.str.split('|')\r\n",
        "data_2 = data_2.explode('production_companies')\r\n",
        "\r\n",
        "data_2['tagline_size'] = data_2.overview.apply(lambda x: len(x.split(\" \")))\r\n",
        "result_25 = \\\r\n",
        "    data_2.pivot_table(['tagline_size'], ['production_companies'], aggfunc='mean').sort_values(by='tagline_size',\r\n",
        "                                                                                               ascending=False).index[0]\r\n",
        "print(result_25)"
      ],
      "execution_count": null,
      "outputs": []
    },
    {
      "cell_type": "markdown",
      "metadata": {
        "id": "FJ1AFt90VqAP"
      },
      "source": [
        "# 26. Какие фильмы входят в 1 процент лучших по рейтингу? \n",
        "по vote_average"
      ]
    },
    {
      "cell_type": "code",
      "metadata": {
        "id": "8qmJVq4CVqAQ"
      },
      "source": [
        "answers['26'] = 'Inside Out, The Dark Knight, 12 Years a Slave'"
      ],
      "execution_count": null,
      "outputs": []
    },
    {
      "cell_type": "code",
      "metadata": {
        "id": "yyqItH7M-7SU"
      },
      "source": [
        "data_2 = data.copy()\r\n",
        "value_for_sort = data_2[\"vote_average\"].quantile(0.99)\r\n",
        "result_26 = data_2[data_2[\"vote_average\"] > value_for_sort][\"original_title\"]\r\n",
        "print(result_26)"
      ],
      "execution_count": null,
      "outputs": []
    },
    {
      "cell_type": "markdown",
      "metadata": {
        "id": "MdXsUXbCVqAV"
      },
      "source": [
        "# 27. Какие актеры чаще всего снимаются в одном фильме вместе?\n"
      ]
    },
    {
      "cell_type": "code",
      "metadata": {
        "id": "F3eLe-wY_CSt"
      },
      "source": [
        "answers['27'] = ('Daniel Radcliffe', 'Rupert Grint')"
      ],
      "execution_count": null,
      "outputs": []
    },
    {
      "cell_type": "code",
      "metadata": {
        "id": "LbEUDCeD_nTd"
      },
      "source": [
        "data_2 = data.copy()\r\n",
        "data_2[\"cast\"] = data_2[\"cast\"].str.split('|').apply(lambda x: list(itertools.combinations(x, 2)))\r\n",
        "data_2 = data_2.explode(\"cast\")\r\n",
        "result_27 = data_2[\"cast\"].value_counts().index[0]\r\n",
        "print(result_27)"
      ],
      "execution_count": null,
      "outputs": []
    },
    {
      "cell_type": "markdown",
      "metadata": {
        "id": "4ymnxEVoVqAW"
      },
      "source": [
        "ВАРИАНТ 2"
      ]
    },
    {
      "cell_type": "markdown",
      "metadata": {
        "id": "U0nONFnGVqAX"
      },
      "source": [
        "# Submission"
      ]
    },
    {
      "cell_type": "code",
      "metadata": {
        "id": "IfcaRO9-VqAX",
        "outputId": "0f132912-32bb-4196-c98c-abfbc4ad5a5f"
      },
      "source": [
        "# в конце можно посмотреть свои ответы к каждому вопросу\n",
        "answers"
      ],
      "execution_count": null,
      "outputs": [
        {
          "output_type": "execute_result",
          "data": {
            "text/plain": [
              "{'1': '...', '2': '...'}"
            ]
          },
          "metadata": {
            "tags": []
          },
          "execution_count": 8
        }
      ]
    },
    {
      "cell_type": "code",
      "metadata": {
        "id": "SiRmHPl8VqAd"
      },
      "source": [
        "# и убедиться что ни чего не пропустил)\n",
        "len(answers)"
      ],
      "execution_count": null,
      "outputs": []
    },
    {
      "cell_type": "code",
      "metadata": {
        "id": "uCfuTkRbVqAg"
      },
      "source": [
        ""
      ],
      "execution_count": null,
      "outputs": []
    },
    {
      "cell_type": "code",
      "metadata": {
        "id": "Vwx3NrkSVqAl"
      },
      "source": [
        ""
      ],
      "execution_count": null,
      "outputs": []
    }
  ]
}